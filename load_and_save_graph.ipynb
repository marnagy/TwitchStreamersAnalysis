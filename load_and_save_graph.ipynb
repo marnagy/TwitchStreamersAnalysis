{
 "cells": [
  {
   "cell_type": "code",
   "execution_count": 1,
   "id": "815de144",
   "metadata": {},
   "outputs": [],
   "source": [
    "import numpy as np\n",
    "import matplotlib.pyplot as plt\n",
    "import networkx as nx\n",
    "import pandas as pd\n",
    "import os\n",
    "from tqdm import tqdm\n",
    "\n",
    "MAIN_DIR = 'twitch_gamers'"
   ]
  },
  {
   "cell_type": "code",
   "execution_count": 2,
   "id": "49037dcf",
   "metadata": {},
   "outputs": [],
   "source": [
    "df_with_edges = pd.read_csv(os.path.join(MAIN_DIR, 'large_twitch_edges.csv'))"
   ]
  },
  {
   "cell_type": "code",
   "execution_count": 3,
   "id": "7c75c18a",
   "metadata": {},
   "outputs": [
    {
     "data": {
      "text/html": [
       "<div>\n",
       "<style scoped>\n",
       "    .dataframe tbody tr th:only-of-type {\n",
       "        vertical-align: middle;\n",
       "    }\n",
       "\n",
       "    .dataframe tbody tr th {\n",
       "        vertical-align: top;\n",
       "    }\n",
       "\n",
       "    .dataframe thead th {\n",
       "        text-align: right;\n",
       "    }\n",
       "</style>\n",
       "<table border=\"1\" class=\"dataframe\">\n",
       "  <thead>\n",
       "    <tr style=\"text-align: right;\">\n",
       "      <th></th>\n",
       "      <th>numeric_id_1</th>\n",
       "      <th>numeric_id_2</th>\n",
       "    </tr>\n",
       "  </thead>\n",
       "  <tbody>\n",
       "    <tr>\n",
       "      <th>0</th>\n",
       "      <td>98343</td>\n",
       "      <td>141493</td>\n",
       "    </tr>\n",
       "    <tr>\n",
       "      <th>1</th>\n",
       "      <td>98343</td>\n",
       "      <td>58736</td>\n",
       "    </tr>\n",
       "    <tr>\n",
       "      <th>2</th>\n",
       "      <td>98343</td>\n",
       "      <td>140703</td>\n",
       "    </tr>\n",
       "    <tr>\n",
       "      <th>3</th>\n",
       "      <td>98343</td>\n",
       "      <td>151401</td>\n",
       "    </tr>\n",
       "    <tr>\n",
       "      <th>4</th>\n",
       "      <td>98343</td>\n",
       "      <td>157118</td>\n",
       "    </tr>\n",
       "  </tbody>\n",
       "</table>\n",
       "</div>"
      ],
      "text/plain": [
       "   numeric_id_1  numeric_id_2\n",
       "0         98343        141493\n",
       "1         98343         58736\n",
       "2         98343        140703\n",
       "3         98343        151401\n",
       "4         98343        157118"
      ]
     },
     "execution_count": 3,
     "metadata": {},
     "output_type": "execute_result"
    }
   ],
   "source": [
    "df_with_edges.head()"
   ]
  },
  {
   "cell_type": "code",
   "execution_count": 4,
   "id": "76b988e4",
   "metadata": {},
   "outputs": [],
   "source": [
    "G = nx.Graph() #nx.read_edgelist(os.path.join(MAIN_DIR, 'large_twitch_edges.csv'))\n",
    "\n",
    "for row in df_with_edges.iterrows():\n",
    "    G.add_edge(row[1]['numeric_id_1'], row[1]['numeric_id_2'])\n",
    "\n",
    "del df_with_edges"
   ]
  },
  {
   "cell_type": "code",
   "execution_count": 5,
   "id": "4f7d1882",
   "metadata": {},
   "outputs": [
    {
     "data": {
      "text/plain": [
       "168114"
      ]
     },
     "execution_count": 5,
     "metadata": {},
     "output_type": "execute_result"
    }
   ],
   "source": [
    "len(list(G.nodes))"
   ]
  },
  {
   "cell_type": "code",
   "execution_count": 6,
   "id": "c2bafb8d",
   "metadata": {},
   "outputs": [
    {
     "name": "stderr",
     "output_type": "stream",
     "text": [
      "/tmp/u/nagymar/ipykernel_31915/3546799253.py:2: DeprecationWarning: `np.bool8` is a deprecated alias for `np.bool_`.  (Deprecated NumPy 1.24)\n",
      "  df_with_features['affiliate'] = df_with_features['affiliate'].astype(np.bool8)\n",
      "/tmp/u/nagymar/ipykernel_31915/3546799253.py:3: DeprecationWarning: `np.bool8` is a deprecated alias for `np.bool_`.  (Deprecated NumPy 1.24)\n",
      "  df_with_features['dead_account'] = df_with_features['dead_account'].astype(np.bool8)\n",
      "/tmp/u/nagymar/ipykernel_31915/3546799253.py:4: DeprecationWarning: `np.bool8` is a deprecated alias for `np.bool_`.  (Deprecated NumPy 1.24)\n",
      "  df_with_features['mature'] = df_with_features['mature'].astype(np.bool8)\n"
     ]
    }
   ],
   "source": [
    "df_with_features = pd.read_csv(os.path.join(MAIN_DIR, 'large_twitch_features.csv'))\n",
    "df_with_features['affiliate'] = df_with_features['affiliate'].astype(np.bool8)\n",
    "df_with_features['dead_account'] = df_with_features['dead_account'].astype(np.bool8)\n",
    "df_with_features['mature'] = df_with_features['mature'].astype(np.bool8)"
   ]
  },
  {
   "cell_type": "code",
   "execution_count": 7,
   "id": "daeda555",
   "metadata": {},
   "outputs": [],
   "source": [
    "column_names = list(df_with_features.columns)\n",
    "main_column = 'numeric_id'\n",
    "other_columns = list(filter(lambda x: x != main_column, column_names))\n",
    "print(column_names)"
   ]
  },
  {
   "cell_type": "code",
   "execution_count": 8,
   "id": "61bdeb74",
   "metadata": {},
   "outputs": [],
   "source": [
    "node_attrs = dict()\n",
    "\n",
    "for row in df_with_features.iterrows():\n",
    "    row_stuff = row[1]\n",
    "    node_attrs[row_stuff[main_column]] = { col_name: row_stuff[col_name] for col_name in other_columns }"
   ]
  },
  {
   "cell_type": "code",
   "execution_count": 9,
   "id": "1c742912",
   "metadata": {},
   "outputs": [],
   "source": [
    "nx.set_node_attributes(G, node_attrs)"
   ]
  },
  {
   "cell_type": "code",
   "execution_count": 10,
   "id": "8ec53b89",
   "metadata": {},
   "outputs": [],
   "source": [
    "nx.write_gexf(G, 'full_graph.gexf')"
   ]
  },
  {
   "cell_type": "code",
   "execution_count": null,
   "id": "11e10218",
   "metadata": {},
   "outputs": [],
   "source": []
  }
 ],
 "metadata": {
  "kernelspec": {
   "display_name": "Python 3 (ipykernel)",
   "language": "python",
   "name": "python3"
  }
 },
 "nbformat": 4,
 "nbformat_minor": 5
}
